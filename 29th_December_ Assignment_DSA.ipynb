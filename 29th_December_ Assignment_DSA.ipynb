{
 "cells": [
  {
   "cell_type": "code",
   "execution_count": 1,
   "metadata": {},
   "outputs": [],
   "source": [
    "class Node:\n",
    "    def __init__(self, data):\n",
    "        self.data = data\n",
    "        self.next = None"
   ]
  },
  {
   "cell_type": "code",
   "execution_count": 2,
   "metadata": {},
   "outputs": [
    {
     "name": "stdout",
     "output_type": "stream",
     "text": [
      "4 3 2 1 "
     ]
    }
   ],
   "source": [
    "#Question 1\n",
    "a=Node(1)\n",
    "b=Node(2)\n",
    "c=Node(3)\n",
    "d=Node(4)\n",
    "a.next = b\n",
    "b.next = c\n",
    "c.next = d\n",
    "prev = None\n",
    "curr = a\n",
    "\n",
    "while(curr is not None):\n",
    "    next = curr.next\n",
    "    curr.next = prev\n",
    "    prev = curr\n",
    "    curr = next\n",
    "temp = prev\n",
    "while(temp!=None):\n",
    "    print(temp.data,end=\" \")\n",
    "    temp=temp.next"
   ]
  },
  {
   "cell_type": "code",
   "execution_count": 3,
   "metadata": {},
   "outputs": [
    {
     "name": "stdout",
     "output_type": "stream",
     "text": [
      "1 2 3 4 5 6 "
     ]
    }
   ],
   "source": [
    "#Question 2\n",
    "a=Node(1)\n",
    "b=Node(3)\n",
    "c=Node(5)\n",
    "a.next = b\n",
    "b.next = c\n",
    "\n",
    "d=Node(2)\n",
    "e=Node(4)\n",
    "f=Node(6)\n",
    "d.next = e\n",
    "e.next = f\n",
    "def sort(l1,l2):\n",
    "    dummyNode = Node(-1)\n",
    "    temp=dummyNode\n",
    "    while(l1!=None and l2!=None):\n",
    "        if(l1.data<=l2.data):\n",
    "            temp.next = l1\n",
    "            l1 = l1.next \n",
    "        else:\n",
    "            temp.next = l2\n",
    "            l2 = l2.next     \n",
    "        temp = temp.next\n",
    "    if l1 is not None:\n",
    "        temp.next = l1\n",
    "    else:\n",
    "        temp.next = l2\n",
    "    return dummyNode.next\n",
    "head = sort(a,d)\n",
    "temp = head\n",
    "while(temp!=None):\n",
    "    print(temp.data,end=\" \")\n",
    "    temp=temp.next\n",
    "            \n",
    "\n"
   ]
  },
  {
   "cell_type": "code",
   "execution_count": 4,
   "metadata": {},
   "outputs": [
    {
     "name": "stdout",
     "output_type": "stream",
     "text": [
      "1 2 3 5 "
     ]
    }
   ],
   "source": [
    "#Question 3\n",
    "a=Node(1)\n",
    "b=Node(2)\n",
    "c=Node(3)\n",
    "d=Node(4)\n",
    "e=Node(5)\n",
    "a.next = b\n",
    "b.next = c\n",
    "c.next = d\n",
    "d.next = e\n",
    "def length(head):\n",
    "    temp = head\n",
    "    count=0\n",
    "    while(temp is not None):\n",
    "        count+=1\n",
    "        temp=temp.next\n",
    "    return count\n",
    "def DeleteKNodesBackwards(head, k):\n",
    "    n = length(head)-k+1\n",
    "    count=1\n",
    "    temp = head\n",
    "    while(count!=n-1):\n",
    "        count+=1\n",
    "        temp=temp.next\n",
    "    temp.next = temp.next.next\n",
    "    return head\n",
    "ll = DeleteKNodesBackwards(a,2)\n",
    "temp = ll\n",
    "while(temp!=None):\n",
    "    print(temp.data,end=\" \")\n",
    "    temp=temp.next"
   ]
  },
  {
   "cell_type": "code",
   "execution_count": 5,
   "metadata": {},
   "outputs": [],
   "source": [
    "#Question 4\n",
    "def intersectionPresent(head1, head2):\n",
    "    d1 = head1\n",
    "    d2 = head2\n",
    "    while d1 != d2:\n",
    "        d1 = head2 if d1 == None else d1.next\n",
    "        d2 = head1 if d2 == None else d2.next\n",
    "    return d1"
   ]
  },
  {
   "cell_type": "code",
   "execution_count": 6,
   "metadata": {},
   "outputs": [
    {
     "name": "stdout",
     "output_type": "stream",
     "text": [
      "1 2 3 "
     ]
    }
   ],
   "source": [
    "#Question 5\n",
    "a=Node(1)\n",
    "b=Node(1)\n",
    "c=Node(2)\n",
    "d=Node(2)\n",
    "e=Node(3)\n",
    "a.next = b\n",
    "b.next = c\n",
    "c.next = d\n",
    "d.next = e\n",
    "def remDupes(head):\n",
    "    temp =head\n",
    "    while(temp):\n",
    "        while temp.next and temp.next.data == temp.data:\n",
    "            temp.next = temp.next.next\n",
    "        temp = temp.next\n",
    "    return head\n",
    "ll = remDupes(a)\n",
    "temp = ll\n",
    "while(temp!=None):\n",
    "    print(temp.data,end=\" \")\n",
    "    temp=temp.next"
   ]
  },
  {
   "cell_type": "code",
   "execution_count": 7,
   "metadata": {},
   "outputs": [
    {
     "name": "stdout",
     "output_type": "stream",
     "text": [
      "2 4 6 "
     ]
    }
   ],
   "source": [
    "#Question 6\n",
    "a=Node(1)\n",
    "b=Node(2)\n",
    "c=Node(3)\n",
    "a.next = b\n",
    "b.next = c\n",
    "\n",
    "def helper(head):\n",
    "    temp = head\n",
    "    count = 0\n",
    "    sum = 0\n",
    "    while(temp):\n",
    "        sum+=(temp.data)*(10**count)\n",
    "        count+=1\n",
    "        temp=temp.next\n",
    "    return sum\n",
    "def sumOfLL(head1,head2):\n",
    "    dummyNode=Node(-1)\n",
    "    temp = dummyNode\n",
    "    digit1 = helper(head1)\n",
    "    digit2 = helper(head2)\n",
    "    sum = digit1+digit2\n",
    "    while(sum):\n",
    "        lastDigit = sum%10\n",
    "        myNode = Node(lastDigit)\n",
    "        temp.next = myNode\n",
    "        temp=temp.next\n",
    "        sum=sum//10\n",
    "    return dummyNode.next\n",
    "ll=sumOfLL(a,a)\n",
    "temp = ll\n",
    "while(temp!=None):\n",
    "    print(temp.data,end=\" \")\n",
    "    temp=temp.next  "
   ]
  },
  {
   "cell_type": "code",
   "execution_count": 8,
   "metadata": {},
   "outputs": [
    {
     "name": "stdout",
     "output_type": "stream",
     "text": [
      "2 1 4 3 "
     ]
    }
   ],
   "source": [
    "#Question 7\n",
    "a=Node(1)\n",
    "b=Node(2)\n",
    "c=Node(3)\n",
    "d=Node(4)\n",
    "a.next = b\n",
    "b.next = c\n",
    "c.next = d\n",
    "def SwapNodes(head):\n",
    "    dummyNode = Node(-1)\n",
    "    dummyNode.next = head\n",
    "    temp = dummyNode\n",
    "    \n",
    "    while(temp.next is not None and temp.next.next is not None):\n",
    "        swap1 = temp.next\n",
    "        swap2 = temp.next.next\n",
    "        swap1.next = swap2.next\n",
    "        swap2.next = temp.next\n",
    "        temp.next = swap2\n",
    "        temp=swap1\n",
    "    return dummyNode.next\n",
    "ll = SwapNodes(a)\n",
    "temp = ll\n",
    "while(temp!=None):\n",
    "    print(temp.data,end=\" \")\n",
    "    temp=temp.next  \n",
    "    "
   ]
  },
  {
   "cell_type": "code",
   "execution_count": 9,
   "metadata": {},
   "outputs": [],
   "source": [
    "#Question 8\n"
   ]
  },
  {
   "cell_type": "code",
   "execution_count": 10,
   "metadata": {},
   "outputs": [],
   "source": [
    "#Question 9\n",
    "def reverse_linked_list(head):\n",
    "    if head is None or head.next is None:\n",
    "        return head\n",
    "    new_head = reverse_linked_list(head.next)\n",
    "    front = head.next\n",
    "    front.next = head\n",
    "    head.next = None\n",
    "    return new_head\n",
    "    \n",
    "def is_palindrome(head):\n",
    "    if head is None or head.next is None:\n",
    "        return True\n",
    "\n",
    "    slow = head\n",
    "    fast = head\n",
    "    while fast.next is not None and fast.next.next is not None:\n",
    "        slow = slow.next\n",
    "        fast = fast.next.next\n",
    "    new_head = reverse_linked_list(slow.next)\n",
    "    first = head\n",
    "    second = new_head\n",
    "    while second is not None:\n",
    "        if first.data != second.data:\n",
    "            reverse_linked_list(new_head)\n",
    "            return False\n",
    "        first = first.next\n",
    "        second = second.next\n",
    "    reverse_linked_list(new_head)\n",
    "    return True\n",
    "\n",
    "    "
   ]
  },
  {
   "cell_type": "code",
   "execution_count": null,
   "metadata": {},
   "outputs": [],
   "source": [
    "#Question 10\n",
    "a = Node(1)\n",
    "b = Node(2)\n",
    "c = Node(3)\n",
    "d = Node(4)\n",
    "e = Node(5)\n",
    "a.next = b\n",
    "b.next = c\n",
    "c.next = d\n",
    "d.next = e\n",
    "\n",
    "def length(head):\n",
    "    temp = head\n",
    "    count = 0\n",
    "    while temp is not None:\n",
    "        count += 1\n",
    "        temp = temp.next\n",
    "    return count\n",
    "\n",
    "def kRotate(head, k):\n",
    "    temp = head\n",
    "    while temp.next is not None:\n",
    "        temp = temp.next\n",
    "    temp.next = head\n",
    "    new_tail = head\n",
    "    for _ in range(length(head) - k):\n",
    "        new_tail = new_tail.next\n",
    "    new_head = new_tail.next\n",
    "    new_tail.next = None\n",
    "    return new_head\n",
    "ll = kRotate(a, 2)\n",
    "temp = ll\n",
    "while temp is not None:\n",
    "    print(temp.data, end=\" \")\n",
    "    temp = temp.next\n"
   ]
  },
  {
   "cell_type": "code",
   "execution_count": null,
   "metadata": {},
   "outputs": [],
   "source": [
    "#Question 11\n"
   ]
  },
  {
   "cell_type": "code",
   "execution_count": 11,
   "metadata": {},
   "outputs": [
    {
     "name": "stdout",
     "output_type": "stream",
     "text": [
      "1 3 5 2 4 "
     ]
    }
   ],
   "source": [
    "#Question 12\n",
    "a = Node(1)\n",
    "b = Node(2)\n",
    "c = Node(3)\n",
    "d = Node(4)\n",
    "e = Node(5)\n",
    "a.next = b\n",
    "b.next = c\n",
    "c.next = d\n",
    "d.next = e\n",
    "def even_odd(head):\n",
    "    temp=head\n",
    "    newLL = Node(-1)\n",
    "    temp1 = newLL\n",
    "    while temp is not None:\n",
    "        if(temp.data%2!=0):\n",
    "            n = Node(temp.data)\n",
    "            temp1.next= n\n",
    "            temp1 = n\n",
    "        temp = temp.next\n",
    "    temp = head\n",
    "    while temp is not None:\n",
    "        if(temp.data%2==0):\n",
    "            n = Node(temp.data)\n",
    "            temp1.next= n\n",
    "            temp1 = n\n",
    "        temp = temp.next\n",
    "    return newLL.next\n",
    "myLL =even_odd(a)\n",
    "temp = myLL\n",
    "while temp is not None:\n",
    "    print(temp.data, end=\" \")\n",
    "    temp = temp.next "
   ]
  },
  {
   "cell_type": "code",
   "execution_count": 12,
   "metadata": {},
   "outputs": [
    {
     "name": "stdout",
     "output_type": "stream",
     "text": [
      "1 2 4 "
     ]
    }
   ],
   "source": [
    "#Question 13\n",
    "a = Node(1)\n",
    "b = Node(2)\n",
    "c = Node(3)\n",
    "a.next = b\n",
    "b.next = c\n",
    "def add_one(head):\n",
    "    temp = head\n",
    "    while temp.next is not None:\n",
    "        temp = temp.next\n",
    "    temp.data+=1\n",
    "    return head\n",
    "myLL =add_one(a)\n",
    "temp = myLL\n",
    "while temp is not None:\n",
    "    print(temp.data, end=\" \")\n",
    "    temp = temp.next "
   ]
  },
  {
   "cell_type": "code",
   "execution_count": 6,
   "metadata": {},
   "outputs": [
    {
     "data": {
      "text/plain": [
       "2"
      ]
     },
     "execution_count": 6,
     "metadata": {},
     "output_type": "execute_result"
    }
   ],
   "source": [
    "#Question 14\n",
    "def binarySearch(arr, x):\n",
    "    low=0\n",
    "    high = len(arr)-1\n",
    "    while low <= high:\n",
    "        mid = low + (high - low) // 2\n",
    "        if arr[mid] == x:\n",
    "            return mid\n",
    "        elif arr[mid] < x:\n",
    "            low = mid + 1\n",
    "        else:\n",
    "            high = mid - 1\n",
    "    return -1\n",
    "arr=[1, 3, 5, 6]\n",
    "x = 5\n",
    "binarySearch(arr,x)\n"
   ]
  },
  {
   "cell_type": "code",
   "execution_count": 2,
   "metadata": {},
   "outputs": [
    {
     "data": {
      "text/plain": [
       "2"
      ]
     },
     "execution_count": 2,
     "metadata": {},
     "output_type": "execute_result"
    }
   ],
   "source": [
    "#Question 15\n",
    "arr = [8, 10, 12, 2, 4, 6]\n",
    "def MinBinSearch(arr):\n",
    "    ans = float('inf')\n",
    "    low = 0 \n",
    "    high = len(arr)\n",
    "    while(low<=high):\n",
    "        mid = (low+high)//2\n",
    "        if(arr[low]<=arr[mid]):\n",
    "            low = mid+1\n",
    "        else:\n",
    "            high = mid+1\n",
    "            ans = min(ans,arr[mid])\n",
    "    return ans\n",
    "MinBinSearch(arr)"
   ]
  },
  {
   "cell_type": "code",
   "execution_count": 3,
   "metadata": {},
   "outputs": [
    {
     "data": {
      "text/plain": [
       "3"
      ]
     },
     "execution_count": 3,
     "metadata": {},
     "output_type": "execute_result"
    }
   ],
   "source": [
    "#Question 16\n",
    "def SearchRotatedArray(arr, target):\n",
    "    l = 0\n",
    "    h = len(arr)\n",
    "    while(l<=h):\n",
    "        m = (l+h)//2\n",
    "        if(arr[m]==target):\n",
    "            return m\n",
    "        elif(arr[l]<=arr[m]):\n",
    "            if(arr[l]<=target<=arr[m]):\n",
    "                h=m-1\n",
    "            else:\n",
    "                l=m+1\n",
    "        else:\n",
    "            if(arr[m]<=target<=arr[h]):\n",
    "                l=m+1\n",
    "            else:\n",
    "                h=m-1\n",
    "    return m\n",
    "arr = [4,5,6,7,8,1,2]\n",
    "target = 7\n",
    "SearchRotatedArray(arr,target)            "
   ]
  },
  {
   "cell_type": "code",
   "execution_count": 10,
   "metadata": {},
   "outputs": [
    {
     "data": {
      "text/plain": [
       "5"
      ]
     },
     "execution_count": 10,
     "metadata": {},
     "output_type": "execute_result"
    }
   ],
   "source": [
    "#Question 17\n",
    "def PeakElem(arr):\n",
    "    l = 0\n",
    "    h = len(arr)-1\n",
    "    while(l<=h):\n",
    "        m = (l+h)//2\n",
    "        if(m>0 and m<h):\n",
    "            if(arr[m-1]<arr[m]>arr[m+1]):\n",
    "                return m\n",
    "            elif(arr[m-1]>arr[m]):\n",
    "                h=m-1\n",
    "            else:\n",
    "                l=m+1\n",
    "        elif(m==0):\n",
    "            if(arr[0]<arr[1]):\n",
    "                return 1\n",
    "            else:\n",
    "                return 0\n",
    "        else:\n",
    "            if(arr[len(arr)-1]>arr[len(arr)-2]):\n",
    "                return len(arr)-1\n",
    "            else:\n",
    "                return len(arr)-2\n",
    "arr =[1,2,1,3,5,6,4]\n",
    "PeakElem(arr)         \n",
    "    "
   ]
  },
  {
   "cell_type": "code",
   "execution_count": 17,
   "metadata": {},
   "outputs": [
    {
     "data": {
      "text/plain": [
       "8"
      ]
     },
     "execution_count": 17,
     "metadata": {},
     "output_type": "execute_result"
    }
   ],
   "source": [
    "#Question 18\n",
    "def countNeg(arr):\n",
    "    l = 0\n",
    "    count=0\n",
    "    h=len(arr)\n",
    "    while(l<h):\n",
    "        m = (l+h)//2\n",
    "        if(arr[m]<0):\n",
    "            h=m\n",
    "        else:\n",
    "            l = m+1\n",
    "    return len(arr)-l\n",
    "\n",
    "def countNegMat(mat):\n",
    "    count = 0\n",
    "    for row in mat:\n",
    "        count+=countNeg(row)\n",
    "    return count\n",
    "arr = [[4,3,2,-1],[3,2,1,-1],[1,1,-1,-2],[-1,-1,-2,-3]]\n",
    "countNegMat(arr)\n",
    "            \n",
    "                "
   ]
  },
  {
   "cell_type": "code",
   "execution_count": 33,
   "metadata": {},
   "outputs": [
    {
     "data": {
      "text/plain": [
       "True"
      ]
     },
     "execution_count": 33,
     "metadata": {},
     "output_type": "execute_result"
    }
   ],
   "source": [
    "#Question 19\n",
    "def binarySearch(arr, x):\n",
    "    low=0\n",
    "    high = len(arr)-1\n",
    "    while low <= high:\n",
    "        mid = low + (high - low) // 2\n",
    "        if arr[mid] == x:\n",
    "            return True\n",
    "        elif arr[mid] < x:\n",
    "            low = mid + 1\n",
    "        else:\n",
    "            high = mid - 1\n",
    "    return False\n",
    "def SearchMat(mat,target):\n",
    "    for row in mat:\n",
    "        if(row[0]>target):\n",
    "            pass\n",
    "        else:\n",
    "            if(binarySearch(row,target)):\n",
    "                return True\n",
    "    return False\n",
    "            \n",
    "mat = [[1, 3, 5, 7], [10, 11, 16, 20], [23, 30, 34, 60]]\n",
    "SearchMat(mat,3)\n"
   ]
  },
  {
   "cell_type": "code",
   "execution_count": 2,
   "metadata": {},
   "outputs": [
    {
     "name": "stdout",
     "output_type": "stream",
     "text": [
      "This question was too hard. Why do you bully me with Leetcode Hard Questions when I cant even do basic problems.  :(\n"
     ]
    }
   ],
   "source": [
    "#Question 20\n",
    "print(\"This question was too hard. Why do you bully me with Leetcode Hard Questions when I cant even do basic problems.  :(\")"
   ]
  },
  {
   "cell_type": "code",
   "execution_count": 13,
   "metadata": {},
   "outputs": [
    {
     "data": {
      "text/plain": [
       "'c'"
      ]
     },
     "execution_count": 13,
     "metadata": {},
     "output_type": "execute_result"
    }
   ],
   "source": [
    "#Question 21\n",
    "def ModBS(arr,x):\n",
    "    low = 0\n",
    "    high = len(arr) - 1\n",
    "    ans = len(arr)\n",
    "\n",
    "    while low <= high:\n",
    "        mid = (low + high) // 2\n",
    "        # maybe an answer\n",
    "        if arr[mid] > x:\n",
    "            ans = mid\n",
    "            # look for smaller index on the left\n",
    "            high = mid - 1\n",
    "        else:\n",
    "            low = mid + 1 \n",
    "    return arr[ans]\n",
    "arr = [\"c\",\"f\",\"j\"]\n",
    "ModBS(arr,\"a\")"
   ]
  },
  {
   "cell_type": "code",
   "execution_count": 6,
   "metadata": {},
   "outputs": [
    {
     "data": {
      "text/plain": [
       "[0, 0, 1, 1, 2, 2]"
      ]
     },
     "execution_count": 6,
     "metadata": {},
     "output_type": "execute_result"
    }
   ],
   "source": [
    "#Question 22\n",
    "arr= [0,2,1,2,0,1]\n",
    "def DFA(a):\n",
    "    l=0\n",
    "    m=0\n",
    "    h=len(a)-1\n",
    "    while(m<=h):\n",
    "        if a[m]==0:\n",
    "            a[l],a[m]=a[m],a[l]\n",
    "            l+=1\n",
    "            m+=1\n",
    "            \n",
    "        elif(a[m]==1):\n",
    "            m+=1\n",
    "        else:\n",
    "            a[m],a[h] = a[h],a[m]\n",
    "            h-=1\n",
    "    return a\n",
    "DFA(arr)\n"
   ]
  },
  {
   "cell_type": "code",
   "execution_count": 8,
   "metadata": {},
   "outputs": [
    {
     "data": {
      "text/plain": [
       "2"
      ]
     },
     "execution_count": 8,
     "metadata": {},
     "output_type": "execute_result"
    }
   ],
   "source": [
    "#Question 23\n",
    "def Soln(arr,k):\n",
    "    arr.sort()\n",
    "    return arr[k-1]\n",
    "arr=[2,1,3,6,5,7]\n",
    "Soln(arr,2)"
   ]
  },
  {
   "cell_type": "code",
   "execution_count": 9,
   "metadata": {},
   "outputs": [
    {
     "name": "stdout",
     "output_type": "stream",
     "text": [
      "This question was too hard. Why do you bully me with Leetcode Hard Questions when I cant even do basic problems.  :(\n"
     ]
    }
   ],
   "source": [
    "#Question 24\n",
    "print(\"This question was too hard. Why do you bully me with Leetcode Hard Questions when I cant even do basic problems.  :(\")"
   ]
  },
  {
   "cell_type": "code",
   "execution_count": 11,
   "metadata": {},
   "outputs": [
    {
     "name": "stdout",
     "output_type": "stream",
     "text": [
      "25\n"
     ]
    }
   ],
   "source": [
    "#Question 25\n",
    "arr = [1,3,5,7,9]\n",
    "sum = 0\n",
    "for i in range(len(arr)):\n",
    "    sum+=arr[i]\n",
    "print(sum)"
   ]
  },
  {
   "cell_type": "code",
   "execution_count": 18,
   "metadata": {},
   "outputs": [
    {
     "name": "stdout",
     "output_type": "stream",
     "text": [
      "42\n"
     ]
    }
   ],
   "source": [
    "#Question 26\n",
    "max = float('-inf')\n",
    "arr = [2,1,3,4,5,6,7,42,3,4]\n",
    "for i in range(len(arr)):\n",
    "    if(max<arr[i]):\n",
    "        max = arr[i]\n",
    "print(max)"
   ]
  },
  {
   "cell_type": "code",
   "execution_count": 21,
   "metadata": {},
   "outputs": [
    {
     "name": "stdout",
     "output_type": "stream",
     "text": [
      "2\n"
     ]
    }
   ],
   "source": [
    "#Question 27\n",
    "arr = [5, 3, 8, 2, 7, 4]\n",
    "target = 8\n",
    "for i in range(len(arr)):\n",
    "    if(arr[i]==target):\n",
    "        print(i)\n",
    "        break\n",
    "    "
   ]
  },
  {
   "cell_type": "code",
   "execution_count": 22,
   "metadata": {},
   "outputs": [
    {
     "name": "stdout",
     "output_type": "stream",
     "text": [
      "120\n"
     ]
    }
   ],
   "source": [
    "#Question 28\n",
    "prod =1 \n",
    "num = 5\n",
    "for i in range(1,num+1):\n",
    "    prod*=i\n",
    "print(prod)"
   ]
  },
  {
   "cell_type": "code",
   "execution_count": 23,
   "metadata": {},
   "outputs": [
    {
     "name": "stdout",
     "output_type": "stream",
     "text": [
      "7 is prime\n"
     ]
    }
   ],
   "source": [
    "#Question 29\n",
    "num = 7\n",
    "is_prime = True\n",
    "for i in range(2, int(num**0.5) + 1):\n",
    "    if num % i == 0:\n",
    "        is_prime = False\n",
    "        break\n",
    "\n",
    "if is_prime:\n",
    "    print(num, \"is prime\")\n",
    "else:\n",
    "    print(num, \"is not prime\")\n"
   ]
  },
  {
   "cell_type": "code",
   "execution_count": 26,
   "metadata": {},
   "outputs": [
    {
     "data": {
      "text/plain": [
       "[0, 1, 1, 2, 3]"
      ]
     },
     "execution_count": 26,
     "metadata": {},
     "output_type": "execute_result"
    }
   ],
   "source": [
    "#Question 30\n",
    "fib = [0,1]\n",
    "target = 5\n",
    "for i in range(target-2):\n",
    "    fib.append(fib[i]+fib[i+1])\n",
    "fib"
   ]
  },
  {
   "cell_type": "code",
   "execution_count": 30,
   "metadata": {},
   "outputs": [
    {
     "data": {
      "text/plain": [
       "8"
      ]
     },
     "execution_count": 30,
     "metadata": {},
     "output_type": "execute_result"
    }
   ],
   "source": [
    "#Question 31\n",
    "def power(num, pow):\n",
    "    if pow == 0:\n",
    "        return 1\n",
    "    elif pow == 1:\n",
    "        return num\n",
    "    else:\n",
    "        return num * power(num, pow - 1)\n",
    "\n",
    "result = power(2, 3)\n",
    "result\n"
   ]
  },
  {
   "cell_type": "code",
   "execution_count": 31,
   "metadata": {},
   "outputs": [
    {
     "data": {
      "text/plain": [
       "'olleH'"
      ]
     },
     "execution_count": 31,
     "metadata": {},
     "output_type": "execute_result"
    }
   ],
   "source": [
    "#Question 32\n",
    "string = \"Hello\"\n",
    "string[::-1]"
   ]
  },
  {
   "cell_type": "code",
   "execution_count": null,
   "metadata": {},
   "outputs": [],
   "source": []
  }
 ],
 "metadata": {
  "kernelspec": {
   "display_name": "Python 3 (ipykernel)",
   "language": "python",
   "name": "python3"
  },
  "language_info": {
   "codemirror_mode": {
    "name": "ipython",
    "version": 3
   },
   "file_extension": ".py",
   "mimetype": "text/x-python",
   "name": "python",
   "nbconvert_exporter": "python",
   "pygments_lexer": "ipython3",
   "version": "3.12.2"
  }
 },
 "nbformat": 4,
 "nbformat_minor": 4
}
